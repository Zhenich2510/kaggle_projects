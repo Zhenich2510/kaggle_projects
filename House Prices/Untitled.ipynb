{
 "cells": [
  {
   "cell_type": "code",
   "execution_count": 190,
   "id": "ee6065fb",
   "metadata": {},
   "outputs": [],
   "source": [
    "import pandas as pd\n",
    "import numpy as np\n",
    "\n",
    "from sklearn.feature_selection import VarianceThreshold\n",
    "\n",
    "from scipy.stats import normaltest\n",
    "from scipy.stats import shapiro\n",
    "\n",
    "import matplotlib.pyplot as plt\n",
    "import seaborn as sns"
   ]
  },
  {
   "cell_type": "markdown",
   "id": "39815e0c",
   "metadata": {},
   "source": [
    "# Import data"
   ]
  },
  {
   "cell_type": "code",
   "execution_count": 2,
   "id": "c9c7d8a6",
   "metadata": {},
   "outputs": [],
   "source": [
    "train_df = pd.read_csv(r\"C:\\Users\\Yevheniy\\Desktop\\House Prices\\House Prices\\data\\train.csv\")"
   ]
  },
  {
   "cell_type": "code",
   "execution_count": 3,
   "id": "1d592d9b",
   "metadata": {},
   "outputs": [
    {
     "data": {
      "text/html": [
       "<div>\n",
       "<style scoped>\n",
       "    .dataframe tbody tr th:only-of-type {\n",
       "        vertical-align: middle;\n",
       "    }\n",
       "\n",
       "    .dataframe tbody tr th {\n",
       "        vertical-align: top;\n",
       "    }\n",
       "\n",
       "    .dataframe thead th {\n",
       "        text-align: right;\n",
       "    }\n",
       "</style>\n",
       "<table border=\"1\" class=\"dataframe\">\n",
       "  <thead>\n",
       "    <tr style=\"text-align: right;\">\n",
       "      <th></th>\n",
       "      <th>Id</th>\n",
       "      <th>MSSubClass</th>\n",
       "      <th>MSZoning</th>\n",
       "      <th>LotFrontage</th>\n",
       "      <th>LotArea</th>\n",
       "      <th>Street</th>\n",
       "      <th>Alley</th>\n",
       "      <th>LotShape</th>\n",
       "      <th>LandContour</th>\n",
       "      <th>Utilities</th>\n",
       "      <th>...</th>\n",
       "      <th>PoolArea</th>\n",
       "      <th>PoolQC</th>\n",
       "      <th>Fence</th>\n",
       "      <th>MiscFeature</th>\n",
       "      <th>MiscVal</th>\n",
       "      <th>MoSold</th>\n",
       "      <th>YrSold</th>\n",
       "      <th>SaleType</th>\n",
       "      <th>SaleCondition</th>\n",
       "      <th>SalePrice</th>\n",
       "    </tr>\n",
       "  </thead>\n",
       "  <tbody>\n",
       "    <tr>\n",
       "      <th>0</th>\n",
       "      <td>1</td>\n",
       "      <td>60</td>\n",
       "      <td>RL</td>\n",
       "      <td>65.0</td>\n",
       "      <td>8450</td>\n",
       "      <td>Pave</td>\n",
       "      <td>NaN</td>\n",
       "      <td>Reg</td>\n",
       "      <td>Lvl</td>\n",
       "      <td>AllPub</td>\n",
       "      <td>...</td>\n",
       "      <td>0</td>\n",
       "      <td>NaN</td>\n",
       "      <td>NaN</td>\n",
       "      <td>NaN</td>\n",
       "      <td>0</td>\n",
       "      <td>2</td>\n",
       "      <td>2008</td>\n",
       "      <td>WD</td>\n",
       "      <td>Normal</td>\n",
       "      <td>208500</td>\n",
       "    </tr>\n",
       "    <tr>\n",
       "      <th>1</th>\n",
       "      <td>2</td>\n",
       "      <td>20</td>\n",
       "      <td>RL</td>\n",
       "      <td>80.0</td>\n",
       "      <td>9600</td>\n",
       "      <td>Pave</td>\n",
       "      <td>NaN</td>\n",
       "      <td>Reg</td>\n",
       "      <td>Lvl</td>\n",
       "      <td>AllPub</td>\n",
       "      <td>...</td>\n",
       "      <td>0</td>\n",
       "      <td>NaN</td>\n",
       "      <td>NaN</td>\n",
       "      <td>NaN</td>\n",
       "      <td>0</td>\n",
       "      <td>5</td>\n",
       "      <td>2007</td>\n",
       "      <td>WD</td>\n",
       "      <td>Normal</td>\n",
       "      <td>181500</td>\n",
       "    </tr>\n",
       "    <tr>\n",
       "      <th>2</th>\n",
       "      <td>3</td>\n",
       "      <td>60</td>\n",
       "      <td>RL</td>\n",
       "      <td>68.0</td>\n",
       "      <td>11250</td>\n",
       "      <td>Pave</td>\n",
       "      <td>NaN</td>\n",
       "      <td>IR1</td>\n",
       "      <td>Lvl</td>\n",
       "      <td>AllPub</td>\n",
       "      <td>...</td>\n",
       "      <td>0</td>\n",
       "      <td>NaN</td>\n",
       "      <td>NaN</td>\n",
       "      <td>NaN</td>\n",
       "      <td>0</td>\n",
       "      <td>9</td>\n",
       "      <td>2008</td>\n",
       "      <td>WD</td>\n",
       "      <td>Normal</td>\n",
       "      <td>223500</td>\n",
       "    </tr>\n",
       "    <tr>\n",
       "      <th>3</th>\n",
       "      <td>4</td>\n",
       "      <td>70</td>\n",
       "      <td>RL</td>\n",
       "      <td>60.0</td>\n",
       "      <td>9550</td>\n",
       "      <td>Pave</td>\n",
       "      <td>NaN</td>\n",
       "      <td>IR1</td>\n",
       "      <td>Lvl</td>\n",
       "      <td>AllPub</td>\n",
       "      <td>...</td>\n",
       "      <td>0</td>\n",
       "      <td>NaN</td>\n",
       "      <td>NaN</td>\n",
       "      <td>NaN</td>\n",
       "      <td>0</td>\n",
       "      <td>2</td>\n",
       "      <td>2006</td>\n",
       "      <td>WD</td>\n",
       "      <td>Abnorml</td>\n",
       "      <td>140000</td>\n",
       "    </tr>\n",
       "    <tr>\n",
       "      <th>4</th>\n",
       "      <td>5</td>\n",
       "      <td>60</td>\n",
       "      <td>RL</td>\n",
       "      <td>84.0</td>\n",
       "      <td>14260</td>\n",
       "      <td>Pave</td>\n",
       "      <td>NaN</td>\n",
       "      <td>IR1</td>\n",
       "      <td>Lvl</td>\n",
       "      <td>AllPub</td>\n",
       "      <td>...</td>\n",
       "      <td>0</td>\n",
       "      <td>NaN</td>\n",
       "      <td>NaN</td>\n",
       "      <td>NaN</td>\n",
       "      <td>0</td>\n",
       "      <td>12</td>\n",
       "      <td>2008</td>\n",
       "      <td>WD</td>\n",
       "      <td>Normal</td>\n",
       "      <td>250000</td>\n",
       "    </tr>\n",
       "  </tbody>\n",
       "</table>\n",
       "<p>5 rows × 81 columns</p>\n",
       "</div>"
      ],
      "text/plain": [
       "   Id  MSSubClass MSZoning  LotFrontage  LotArea Street Alley LotShape  \\\n",
       "0   1          60       RL         65.0     8450   Pave   NaN      Reg   \n",
       "1   2          20       RL         80.0     9600   Pave   NaN      Reg   \n",
       "2   3          60       RL         68.0    11250   Pave   NaN      IR1   \n",
       "3   4          70       RL         60.0     9550   Pave   NaN      IR1   \n",
       "4   5          60       RL         84.0    14260   Pave   NaN      IR1   \n",
       "\n",
       "  LandContour Utilities  ... PoolArea PoolQC Fence MiscFeature MiscVal MoSold  \\\n",
       "0         Lvl    AllPub  ...        0    NaN   NaN         NaN       0      2   \n",
       "1         Lvl    AllPub  ...        0    NaN   NaN         NaN       0      5   \n",
       "2         Lvl    AllPub  ...        0    NaN   NaN         NaN       0      9   \n",
       "3         Lvl    AllPub  ...        0    NaN   NaN         NaN       0      2   \n",
       "4         Lvl    AllPub  ...        0    NaN   NaN         NaN       0     12   \n",
       "\n",
       "  YrSold  SaleType  SaleCondition  SalePrice  \n",
       "0   2008        WD         Normal     208500  \n",
       "1   2007        WD         Normal     181500  \n",
       "2   2008        WD         Normal     223500  \n",
       "3   2006        WD        Abnorml     140000  \n",
       "4   2008        WD         Normal     250000  \n",
       "\n",
       "[5 rows x 81 columns]"
      ]
     },
     "execution_count": 3,
     "metadata": {},
     "output_type": "execute_result"
    }
   ],
   "source": [
    "train_df.head()"
   ]
  },
  {
   "cell_type": "code",
   "execution_count": 5,
   "id": "511e0c3b",
   "metadata": {},
   "outputs": [],
   "source": [
    "test_df = pd.read_csv(r\"C:\\Users\\Yevheniy\\Desktop\\House Prices\\House Prices\\data\\test.csv\")"
   ]
  },
  {
   "cell_type": "code",
   "execution_count": 12,
   "id": "9f936f92",
   "metadata": {},
   "outputs": [],
   "source": [
    "sample_submission = pd.read_csv(r\"C:\\Users\\Yevheniy\\Desktop\\House Prices\\House Prices\\data\\\\sample_submission.csv\")"
   ]
  },
  {
   "cell_type": "code",
   "execution_count": 13,
   "id": "8a091d28",
   "metadata": {},
   "outputs": [
    {
     "data": {
      "text/html": [
       "<div>\n",
       "<style scoped>\n",
       "    .dataframe tbody tr th:only-of-type {\n",
       "        vertical-align: middle;\n",
       "    }\n",
       "\n",
       "    .dataframe tbody tr th {\n",
       "        vertical-align: top;\n",
       "    }\n",
       "\n",
       "    .dataframe thead th {\n",
       "        text-align: right;\n",
       "    }\n",
       "</style>\n",
       "<table border=\"1\" class=\"dataframe\">\n",
       "  <thead>\n",
       "    <tr style=\"text-align: right;\">\n",
       "      <th></th>\n",
       "      <th>Id</th>\n",
       "      <th>SalePrice</th>\n",
       "    </tr>\n",
       "  </thead>\n",
       "  <tbody>\n",
       "    <tr>\n",
       "      <th>0</th>\n",
       "      <td>1461</td>\n",
       "      <td>169277.052498</td>\n",
       "    </tr>\n",
       "    <tr>\n",
       "      <th>1</th>\n",
       "      <td>1462</td>\n",
       "      <td>187758.393989</td>\n",
       "    </tr>\n",
       "    <tr>\n",
       "      <th>2</th>\n",
       "      <td>1463</td>\n",
       "      <td>183583.683570</td>\n",
       "    </tr>\n",
       "    <tr>\n",
       "      <th>3</th>\n",
       "      <td>1464</td>\n",
       "      <td>179317.477511</td>\n",
       "    </tr>\n",
       "    <tr>\n",
       "      <th>4</th>\n",
       "      <td>1465</td>\n",
       "      <td>150730.079977</td>\n",
       "    </tr>\n",
       "  </tbody>\n",
       "</table>\n",
       "</div>"
      ],
      "text/plain": [
       "     Id      SalePrice\n",
       "0  1461  169277.052498\n",
       "1  1462  187758.393989\n",
       "2  1463  183583.683570\n",
       "3  1464  179317.477511\n",
       "4  1465  150730.079977"
      ]
     },
     "execution_count": 13,
     "metadata": {},
     "output_type": "execute_result"
    }
   ],
   "source": [
    "sample_submission.head()"
   ]
  },
  {
   "cell_type": "markdown",
   "id": "87a654b9",
   "metadata": {},
   "source": [
    "# Data info"
   ]
  },
  {
   "cell_type": "code",
   "execution_count": 19,
   "id": "acb5baad",
   "metadata": {},
   "outputs": [
    {
     "data": {
      "text/plain": [
       "(1460, 81)"
      ]
     },
     "execution_count": 19,
     "metadata": {},
     "output_type": "execute_result"
    }
   ],
   "source": [
    "train_df.shape"
   ]
  },
  {
   "cell_type": "code",
   "execution_count": 20,
   "id": "d60d5b43",
   "metadata": {},
   "outputs": [
    {
     "data": {
      "text/plain": [
       "(1459, 80)"
      ]
     },
     "execution_count": 20,
     "metadata": {},
     "output_type": "execute_result"
    }
   ],
   "source": [
    "test_df.shape"
   ]
  },
  {
   "cell_type": "code",
   "execution_count": 21,
   "id": "84fa33a5",
   "metadata": {},
   "outputs": [
    {
     "data": {
      "text/plain": [
       "(1459, 2)"
      ]
     },
     "execution_count": 21,
     "metadata": {},
     "output_type": "execute_result"
    }
   ],
   "source": [
    "sample_submission.shape"
   ]
  },
  {
   "cell_type": "markdown",
   "id": "3a00cd99",
   "metadata": {},
   "source": [
    "# Get columns "
   ]
  },
  {
   "cell_type": "code",
   "execution_count": 137,
   "id": "2783fd09",
   "metadata": {},
   "outputs": [],
   "source": [
    "NULL_COLUMNS = train_df.loc[:, train_df.isnull().sum() >= 0.5].columns"
   ]
  },
  {
   "cell_type": "code",
   "execution_count": 138,
   "id": "8703708f",
   "metadata": {},
   "outputs": [
    {
     "data": {
      "text/plain": [
       "19"
      ]
     },
     "execution_count": 138,
     "metadata": {},
     "output_type": "execute_result"
    }
   ],
   "source": [
    "len(NULL_COLUMNS)"
   ]
  },
  {
   "cell_type": "code",
   "execution_count": 139,
   "id": "abebc6d9",
   "metadata": {},
   "outputs": [],
   "source": [
    "NUMERIC_COLUMS = []\n",
    "CATEGORICAL_COLUMNS = []"
   ]
  },
  {
   "cell_type": "code",
   "execution_count": 140,
   "id": "d44c7f5e",
   "metadata": {},
   "outputs": [
    {
     "name": "stderr",
     "output_type": "stream",
     "text": [
      "C:\\Users\\Yevheniy\\AppData\\Local\\Temp/ipykernel_8028/2561859065.py:1: FutureWarning: In a future version of pandas all arguments of DataFrame.drop except for the argument 'labels' will be keyword-only\n",
      "  for column in train_df.drop(['Id', 'SalePrice'], 1).columns:\n"
     ]
    }
   ],
   "source": [
    "for column in train_df.drop(['Id', 'SalePrice'], 1).columns:\n",
    "    if train_df[column].dtypes == \"object\":\n",
    "        CATEGORICAL_COLUMNS.append(column)\n",
    "    else:\n",
    "        NUMERIC_COLUMS.append(column)"
   ]
  },
  {
   "cell_type": "code",
   "execution_count": 141,
   "id": "01a4cf9f",
   "metadata": {},
   "outputs": [
    {
     "name": "stdout",
     "output_type": "stream",
     "text": [
      "MSSubClass\n",
      "0    60\n",
      "1    20\n",
      "2    60\n",
      "3    70\n",
      "4    60\n",
      "Name: MSSubClass, dtype: int64\n",
      "-------------\n",
      "LotFrontage\n",
      "0    65.0\n",
      "1    80.0\n",
      "2    68.0\n",
      "3    60.0\n",
      "4    84.0\n",
      "Name: LotFrontage, dtype: float64\n",
      "-------------\n",
      "LotArea\n",
      "0     8450\n",
      "1     9600\n",
      "2    11250\n",
      "3     9550\n",
      "4    14260\n",
      "Name: LotArea, dtype: int64\n",
      "-------------\n",
      "OverallQual\n",
      "0    7\n",
      "1    6\n",
      "2    7\n",
      "3    7\n",
      "4    8\n",
      "Name: OverallQual, dtype: int64\n",
      "-------------\n",
      "OverallCond\n",
      "0    5\n",
      "1    8\n",
      "2    5\n",
      "3    5\n",
      "4    5\n",
      "Name: OverallCond, dtype: int64\n",
      "-------------\n",
      "YearBuilt\n",
      "0    2003\n",
      "1    1976\n",
      "2    2001\n",
      "3    1915\n",
      "4    2000\n",
      "Name: YearBuilt, dtype: int64\n",
      "-------------\n",
      "YearRemodAdd\n",
      "0    2003\n",
      "1    1976\n",
      "2    2002\n",
      "3    1970\n",
      "4    2000\n",
      "Name: YearRemodAdd, dtype: int64\n",
      "-------------\n",
      "MasVnrArea\n",
      "0    196.0\n",
      "1      0.0\n",
      "2    162.0\n",
      "3      0.0\n",
      "4    350.0\n",
      "Name: MasVnrArea, dtype: float64\n",
      "-------------\n",
      "BsmtFinSF1\n",
      "0    706\n",
      "1    978\n",
      "2    486\n",
      "3    216\n",
      "4    655\n",
      "Name: BsmtFinSF1, dtype: int64\n",
      "-------------\n",
      "BsmtFinSF2\n",
      "0    0\n",
      "1    0\n",
      "2    0\n",
      "3    0\n",
      "4    0\n",
      "Name: BsmtFinSF2, dtype: int64\n",
      "-------------\n",
      "BsmtUnfSF\n",
      "0    150\n",
      "1    284\n",
      "2    434\n",
      "3    540\n",
      "4    490\n",
      "Name: BsmtUnfSF, dtype: int64\n",
      "-------------\n",
      "TotalBsmtSF\n",
      "0     856\n",
      "1    1262\n",
      "2     920\n",
      "3     756\n",
      "4    1145\n",
      "Name: TotalBsmtSF, dtype: int64\n",
      "-------------\n",
      "1stFlrSF\n",
      "0     856\n",
      "1    1262\n",
      "2     920\n",
      "3     961\n",
      "4    1145\n",
      "Name: 1stFlrSF, dtype: int64\n",
      "-------------\n",
      "2ndFlrSF\n",
      "0     854\n",
      "1       0\n",
      "2     866\n",
      "3     756\n",
      "4    1053\n",
      "Name: 2ndFlrSF, dtype: int64\n",
      "-------------\n",
      "LowQualFinSF\n",
      "0    0\n",
      "1    0\n",
      "2    0\n",
      "3    0\n",
      "4    0\n",
      "Name: LowQualFinSF, dtype: int64\n",
      "-------------\n",
      "GrLivArea\n",
      "0    1710\n",
      "1    1262\n",
      "2    1786\n",
      "3    1717\n",
      "4    2198\n",
      "Name: GrLivArea, dtype: int64\n",
      "-------------\n",
      "BsmtFullBath\n",
      "0    1\n",
      "1    0\n",
      "2    1\n",
      "3    1\n",
      "4    1\n",
      "Name: BsmtFullBath, dtype: int64\n",
      "-------------\n",
      "BsmtHalfBath\n",
      "0    0\n",
      "1    1\n",
      "2    0\n",
      "3    0\n",
      "4    0\n",
      "Name: BsmtHalfBath, dtype: int64\n",
      "-------------\n",
      "FullBath\n",
      "0    2\n",
      "1    2\n",
      "2    2\n",
      "3    1\n",
      "4    2\n",
      "Name: FullBath, dtype: int64\n",
      "-------------\n",
      "HalfBath\n",
      "0    1\n",
      "1    0\n",
      "2    1\n",
      "3    0\n",
      "4    1\n",
      "Name: HalfBath, dtype: int64\n",
      "-------------\n",
      "BedroomAbvGr\n",
      "0    3\n",
      "1    3\n",
      "2    3\n",
      "3    3\n",
      "4    4\n",
      "Name: BedroomAbvGr, dtype: int64\n",
      "-------------\n",
      "KitchenAbvGr\n",
      "0    1\n",
      "1    1\n",
      "2    1\n",
      "3    1\n",
      "4    1\n",
      "Name: KitchenAbvGr, dtype: int64\n",
      "-------------\n",
      "TotRmsAbvGrd\n",
      "0    8\n",
      "1    6\n",
      "2    6\n",
      "3    7\n",
      "4    9\n",
      "Name: TotRmsAbvGrd, dtype: int64\n",
      "-------------\n",
      "Fireplaces\n",
      "0    0\n",
      "1    1\n",
      "2    1\n",
      "3    1\n",
      "4    1\n",
      "Name: Fireplaces, dtype: int64\n",
      "-------------\n",
      "GarageYrBlt\n",
      "0    2003.0\n",
      "1    1976.0\n",
      "2    2001.0\n",
      "3    1998.0\n",
      "4    2000.0\n",
      "Name: GarageYrBlt, dtype: float64\n",
      "-------------\n",
      "GarageCars\n",
      "0    2\n",
      "1    2\n",
      "2    2\n",
      "3    3\n",
      "4    3\n",
      "Name: GarageCars, dtype: int64\n",
      "-------------\n",
      "GarageArea\n",
      "0    548\n",
      "1    460\n",
      "2    608\n",
      "3    642\n",
      "4    836\n",
      "Name: GarageArea, dtype: int64\n",
      "-------------\n",
      "WoodDeckSF\n",
      "0      0\n",
      "1    298\n",
      "2      0\n",
      "3      0\n",
      "4    192\n",
      "Name: WoodDeckSF, dtype: int64\n",
      "-------------\n",
      "OpenPorchSF\n",
      "0    61\n",
      "1     0\n",
      "2    42\n",
      "3    35\n",
      "4    84\n",
      "Name: OpenPorchSF, dtype: int64\n",
      "-------------\n",
      "EnclosedPorch\n",
      "0      0\n",
      "1      0\n",
      "2      0\n",
      "3    272\n",
      "4      0\n",
      "Name: EnclosedPorch, dtype: int64\n",
      "-------------\n",
      "3SsnPorch\n",
      "0    0\n",
      "1    0\n",
      "2    0\n",
      "3    0\n",
      "4    0\n",
      "Name: 3SsnPorch, dtype: int64\n",
      "-------------\n",
      "ScreenPorch\n",
      "0    0\n",
      "1    0\n",
      "2    0\n",
      "3    0\n",
      "4    0\n",
      "Name: ScreenPorch, dtype: int64\n",
      "-------------\n",
      "PoolArea\n",
      "0    0\n",
      "1    0\n",
      "2    0\n",
      "3    0\n",
      "4    0\n",
      "Name: PoolArea, dtype: int64\n",
      "-------------\n",
      "MiscVal\n",
      "0    0\n",
      "1    0\n",
      "2    0\n",
      "3    0\n",
      "4    0\n",
      "Name: MiscVal, dtype: int64\n",
      "-------------\n",
      "MoSold\n",
      "0     2\n",
      "1     5\n",
      "2     9\n",
      "3     2\n",
      "4    12\n",
      "Name: MoSold, dtype: int64\n",
      "-------------\n",
      "YrSold\n",
      "0    2008\n",
      "1    2007\n",
      "2    2008\n",
      "3    2006\n",
      "4    2008\n",
      "Name: YrSold, dtype: int64\n",
      "-------------\n"
     ]
    }
   ],
   "source": [
    "for elements in train_df[NUMERIC_COLUMS]:\n",
    "    print(elements)\n",
    "    print(train_df[elements].iloc[:5])\n",
    "    print('-------------')"
   ]
  },
  {
   "cell_type": "code",
   "execution_count": 142,
   "id": "86a617f6",
   "metadata": {},
   "outputs": [],
   "source": [
    "add_cat_columns = ['MSSubClass', 'OverallQual', 'OverallCond', 'YearBuilt', 'YearRemodAdd', 'BsmtFullBath', 'BsmtHalfBath',\n",
    "                  'FullBath', 'HalfBath', 'BedroomAbvGr', 'KitchenAbvGr', 'TotRmsAbvGrd', 'Fireplaces', 'GarageYrBlt',\n",
    "                  'GarageCars', 'YrSold']"
   ]
  },
  {
   "cell_type": "code",
   "execution_count": 143,
   "id": "676867ad",
   "metadata": {},
   "outputs": [],
   "source": [
    "CATEGORICAL_COLUMNS.extend(add_cat_columns)"
   ]
  },
  {
   "cell_type": "code",
   "execution_count": 144,
   "id": "4b1e59af",
   "metadata": {},
   "outputs": [
    {
     "data": {
      "text/plain": [
       "59"
      ]
     },
     "execution_count": 144,
     "metadata": {},
     "output_type": "execute_result"
    }
   ],
   "source": [
    "len(CATEGORICAL_COLUMNS)"
   ]
  },
  {
   "cell_type": "code",
   "execution_count": 145,
   "id": "f68584cc",
   "metadata": {},
   "outputs": [],
   "source": [
    "for column in add_cat_columns:\n",
    "    NUMERIC_COLUMS.remove(column)"
   ]
  },
  {
   "cell_type": "code",
   "execution_count": 146,
   "id": "2ac5e868",
   "metadata": {},
   "outputs": [],
   "source": [
    "var_threshold = VarianceThreshold(threshold = 1)"
   ]
  },
  {
   "cell_type": "code",
   "execution_count": 147,
   "id": "9524a6ba",
   "metadata": {},
   "outputs": [],
   "source": [
    "a = var_threshold.fit(train_df[NUMERIC_COLUMS])"
   ]
  },
  {
   "cell_type": "code",
   "execution_count": 148,
   "id": "7d734f47",
   "metadata": {},
   "outputs": [],
   "source": [
    "LOW_VAR_COLUMNS = [x for x in train_df[NUMERIC_COLUMS].columns if x not in train_df[NUMERIC_COLUMS].columns[a.get_support()]]"
   ]
  },
  {
   "cell_type": "code",
   "execution_count": 149,
   "id": "25727664",
   "metadata": {},
   "outputs": [
    {
     "data": {
      "text/plain": [
       "0"
      ]
     },
     "execution_count": 149,
     "metadata": {},
     "output_type": "execute_result"
    }
   ],
   "source": [
    "len(LOW_VAR_COLUMNS)"
   ]
  },
  {
   "cell_type": "code",
   "execution_count": 160,
   "id": "2a19f85f",
   "metadata": {},
   "outputs": [],
   "source": [
    "NUMERIC_COLUMS_DROPED_NULL_COLUMNS = []\n",
    "CATEGORICAL_COLUMNS_DROPED_NULL_COLUMNS = []"
   ]
  },
  {
   "cell_type": "code",
   "execution_count": 161,
   "id": "936bb273",
   "metadata": {},
   "outputs": [],
   "source": [
    "for column in NUMERIC_COLUMS:\n",
    "    if column not in NULL_COLUMNS:\n",
    "        NUMERIC_COLUMS_DROPED_NULL_COLUMNS.append(column)"
   ]
  },
  {
   "cell_type": "code",
   "execution_count": 162,
   "id": "efbdff94",
   "metadata": {},
   "outputs": [],
   "source": [
    "for column in CATEGORICAL_COLUMNS:\n",
    "    if column not in NULL_COLUMNS:\n",
    "        CATEGORICAL_COLUMNS_DROPED_NULL_COLUMNS.append(column)"
   ]
  },
  {
   "cell_type": "markdown",
   "id": "9bf9d4b4",
   "metadata": {},
   "source": [
    "# Exploratory data analysis"
   ]
  },
  {
   "cell_type": "code",
   "execution_count": 189,
   "id": "6a949e7a",
   "metadata": {},
   "outputs": [
    {
     "data": {
      "image/png": "[encoded data removed]",
      "text/plain": [
       "<Figure size 1008x360 with 2 Axes>"
      ]
     },
     "metadata": {
      "needs_background": "light"
     },
     "output_type": "display_data"
    }
   ],
   "source": [
    "fig, axes = plt.subplots(ncols=2,figsize=(14,5) )\n",
    "\n",
    "fig1 = sns.histplot(data = train_df.SalePrice, ax= axes[0] )\n",
    "fig2 = sns.histplot(data = np.log(train_df.SalePrice), ax = axes[1])\n",
    "\n",
    "fig1.title.set_text(\"SalePrice\")\n",
    "fig2.title.set_text(\"log(SalePrice)\")"
   ]
  },
  {
   "cell_type": "code",
   "execution_count": 191,
   "id": "dbc4769f",
   "metadata": {},
   "outputs": [
    {
     "data": {
      "text/plain": [
       "NormaltestResult(statistic=25.507009834238303, pvalue=2.89216582205235e-06)"
      ]
     },
     "execution_count": 191,
     "metadata": {},
     "output_type": "execute_result"
    }
   ],
   "source": [
    "normaltest(np.log(train_df.SalePrice))"
   ]
  },
  {
   "cell_type": "code",
   "execution_count": 192,
   "id": "bcda8919",
   "metadata": {},
   "outputs": [
    {
     "data": {
      "text/plain": [
       "ShapiroResult(statistic=0.9912067651748657, pvalue=1.1490678986092462e-07)"
      ]
     },
     "execution_count": 192,
     "metadata": {},
     "output_type": "execute_result"
    }
   ],
   "source": [
    "shapiro(np.log(train_df.SalePrice))"
   ]
  },
  {
   "cell_type": "code",
   "execution_count": null,
   "id": "0ed21980",
   "metadata": {},
   "outputs": [],
   "source": []
  }
 ],
 "metadata": {
  "kernelspec": {
   "display_name": "Python 3 (ipykernel)",
   "language": "python",
   "name": "python3"
  },
  "language_info": {
   "codemirror_mode": {
    "name": "ipython",
    "version": 3
   },
   "file_extension": ".py",
   "mimetype": "text/x-python",
   "name": "python",
   "nbconvert_exporter": "python",
   "pygments_lexer": "ipython3",
   "version": "3.9.7"
  }
 },
 "nbformat": 4,
 "nbformat_minor": 5
}
